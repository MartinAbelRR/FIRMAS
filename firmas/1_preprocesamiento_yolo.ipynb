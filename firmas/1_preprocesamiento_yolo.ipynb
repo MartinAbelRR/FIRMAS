{
 "cells": [
  {
   "cell_type": "markdown",
   "metadata": {},
   "source": [
    "## 1. Librerías"
   ]
  },
  {
   "cell_type": "code",
   "execution_count": 30,
   "metadata": {},
   "outputs": [],
   "source": [
    "import os\n",
    "from pdf2image import convert_from_path\n",
    "import random\n",
    "import shutil"
   ]
  },
  {
   "cell_type": "markdown",
   "metadata": {},
   "source": [
    "## 2. Convertir el PDF a Imagen"
   ]
  },
  {
   "cell_type": "code",
   "execution_count": 26,
   "metadata": {},
   "outputs": [],
   "source": [
    "pdfs = os.listdir('data/pdf')"
   ]
  },
  {
   "cell_type": "code",
   "execution_count": 29,
   "metadata": {},
   "outputs": [],
   "source": [
    "for pdf in pdfs:\n",
    "    # Convertir el pdf a imagen.\n",
    "    image = convert_from_path(f'data/pdf/{pdf}', first_page= 1, last_page= 1)\n",
    "\n",
    "    # Cortar la imagen.\n",
    "    image[0] = image[0].crop((0, 0, 1692, 1600))\n",
    "\n",
    "    # Guardar la imagen.\n",
    "    image[0].save(f'data/img/{pdf}.png', 'PNG')"
   ]
  },
  {
   "cell_type": "markdown",
   "metadata": {},
   "source": [
    "## 3. Train, Valid y Test"
   ]
  },
  {
   "cell_type": "code",
   "execution_count": 68,
   "metadata": {},
   "outputs": [],
   "source": [
    "base_dir = 'data/yolo'\n",
    "imgs = os.listdir('data/img')\n",
    "\n",
    "train_dir = os.path.join(base_dir, 'train')\n",
    "valid_dir = os.path.join(base_dir, 'valid')\n",
    "test_dir = os.path.join(base_dir, 'test')\n",
    "\n",
    "# Crear carpetas si no existen.\n",
    "os.makedirs(train_dir, exist_ok= True)\n",
    "os.makedirs(valid_dir, exist_ok= True)\n",
    "os.makedirs(test_dir, exist_ok= True)"
   ]
  },
  {
   "cell_type": "code",
   "execution_count": 61,
   "metadata": {},
   "outputs": [],
   "source": [
    "# Definir las proporciones de los datos.\n",
    "train_ratio = 0.8\n",
    "valid_ratio = 0.1\n",
    "test_ratio = 0.1"
   ]
  },
  {
   "cell_type": "code",
   "execution_count": 62,
   "metadata": {},
   "outputs": [],
   "source": [
    "# Mezclar las imagenes.\n",
    "random.shuffle(imgs)"
   ]
  },
  {
   "cell_type": "code",
   "execution_count": 63,
   "metadata": {},
   "outputs": [],
   "source": [
    "# Calcular cuántos archivos irán a cada conjunto.\n",
    "train_split = int(train_ratio * len(imgs))\n",
    "valid_split = int((train_ratio + valid_ratio) * len(imgs))"
   ]
  },
  {
   "cell_type": "code",
   "execution_count": 66,
   "metadata": {},
   "outputs": [],
   "source": [
    "# Dividir la lista.\n",
    "train_imgs = imgs[:train_split]\n",
    "valid_imgs = imgs[train_split:valid_split]\n",
    "test_imgs = imgs[valid_split:]"
   ]
  },
  {
   "cell_type": "code",
   "execution_count": 76,
   "metadata": {},
   "outputs": [],
   "source": [
    "# Función para mover archivos PDF.\n",
    "def move_files(imgs_list, destination_folder):\n",
    "    try:\n",
    "        for img_file in imgs_list:\n",
    "            source = os.path.join('data/img', img_file)\n",
    "            destination = os.path.join(destination_folder, img_file)\n",
    "            shutil.move(source, destination)\n",
    "    except Exception as e:\n",
    "        print(f'Error: {e}')"
   ]
  },
  {
   "cell_type": "code",
   "execution_count": 72,
   "metadata": {},
   "outputs": [
    {
     "name": "stdout",
     "output_type": "stream",
     "text": [
      "Error: [Errno 2] No such file or directory: 'data/img/58766792-NL.pdf.png'\n",
      "Error: [Errno 2] No such file or directory: 'data/img/58766666-NL.pdf.png'\n",
      "Error: [Errno 2] No such file or directory: 'data/img/58809915-NL.pdf.png'\n"
     ]
    }
   ],
   "source": [
    "# Mover los archivos PDF a las carpetas respectivas.\n",
    "move_files(train_imgs, train_dir)\n",
    "move_files(valid_imgs, valid_dir)\n",
    "move_files(test_imgs, test_dir)"
   ]
  },
  {
   "cell_type": "code",
   "execution_count": 73,
   "metadata": {},
   "outputs": [],
   "source": [
    "# Crear una parte images y labels en cada carpeta.\n",
    "for folder in [train_dir, valid_dir, test_dir]:\n",
    "    os.makedirs(os.path.join(folder, 'images'), exist_ok= True)\n",
    "    os.makedirs(os.path.join(folder, 'labels'), exist_ok= True)"
   ]
  },
  {
   "cell_type": "markdown",
   "metadata": {},
   "source": [
    "*Cuando ya obtenemos todas las imagenes donde hay firmas empezamos a etiquetar todas las imagenes en `labelImg`.*"
   ]
  },
  {
   "cell_type": "markdown",
   "metadata": {},
   "source": [
    "## 4. Manipulación de las Imagenes"
   ]
  },
  {
   "cell_type": "code",
   "execution_count": 78,
   "metadata": {},
   "outputs": [],
   "source": [
    "imgs_train = os.listdir(train_dir)\n",
    "imgs_valid = os.listdir(valid_dir)\n",
    "imgs_test = os.listdir(test_dir)"
   ]
  },
  {
   "cell_type": "code",
   "execution_count": 82,
   "metadata": {},
   "outputs": [],
   "source": [
    "def move_files_train_and_label(imgs_list, destination_folder):\n",
    "    try:\n",
    "        for img in imgs_list:\n",
    "            if '.txt' in img:\n",
    "                shutil.move(f'{destination_folder}/{img}', f'{destination_folder}/labels')\n",
    "            elif '.png' in img:\n",
    "                shutil.move(f'{destination_folder}/{img}', f'{destination_folder}/images')\n",
    "    except Exception as e:\n",
    "        print('...Ya estan movidos...')"
   ]
  },
  {
   "cell_type": "code",
   "execution_count": 84,
   "metadata": {},
   "outputs": [
    {
     "name": "stdout",
     "output_type": "stream",
     "text": [
      "...Ya estan movidos...\n",
      "...Ya estan movidos...\n",
      "...Ya estan movidos...\n"
     ]
    }
   ],
   "source": [
    "move_files_train_and_label(imgs_train, train_dir)\n",
    "move_files_train_and_label(imgs_valid, valid_dir)\n",
    "move_files_train_and_label(imgs_test, test_dir)"
   ]
  },
  {
   "cell_type": "code",
   "execution_count": 86,
   "metadata": {},
   "outputs": [
    {
     "name": "stdout",
     "output_type": "stream",
     "text": [
      "20\n",
      "0\n",
      "2\n",
      "0\n",
      "3\n",
      "0\n"
     ]
    }
   ],
   "source": [
    "print(len(os.listdir(f'{train_dir}/images')))\n",
    "print(len(os.listdir(f'{train_dir}/labels')))\n",
    "print(len(os.listdir(f'{valid_dir}/images')))\n",
    "print(len(os.listdir(f'{valid_dir}/labels')))\n",
    "print(len(os.listdir(f'{test_dir}/images')))\n",
    "print(len(os.listdir(f'{test_dir}/labels')))"
   ]
  }
 ],
 "metadata": {
  "kernelspec": {
   "display_name": "yolo",
   "language": "python",
   "name": "python3"
  },
  "language_info": {
   "codemirror_mode": {
    "name": "ipython",
    "version": 3
   },
   "file_extension": ".py",
   "mimetype": "text/x-python",
   "name": "python",
   "nbconvert_exporter": "python",
   "pygments_lexer": "ipython3",
   "version": "3.10.14"
  }
 },
 "nbformat": 4,
 "nbformat_minor": 2
}
